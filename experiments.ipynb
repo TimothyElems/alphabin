{
 "cells": [
  {
   "cell_type": "code",
   "execution_count": 23,
   "metadata": {},
   "outputs": [
    {
     "name": "stdout",
     "output_type": "stream",
     "text": [
      "Hello!\n",
      "Type a message and you'll see it in binary.\n",
      "Type \"quit\" to end the program.\n",
      "0 b 1 0 0 0 1 0 0\n",
      "0 b 1 1 1 0 0 1 0\n",
      "0 b 1 1 0 1 0 0 1\n",
      "0 b 1 1 1 0 0 0 0\n",
      "0 b 1 1 1 1 0 0 1\n"
     ]
    }
   ],
   "source": [
    "import re\n",
    "\n",
    "def ing_2_bin():\n",
    "    print('Hello!\\nType a message and you\\'ll see it in binary.\\nType \"quit\" to end the program.')\n",
    "    dope = input(\"Type it here: \")\n",
    "    # if dope != 'quit' or 'Quit':\n",
    "    \n",
    "    for i in dope:\n",
    "        # dope2num = str(i)\n",
    "        # num2bin = ord(dope2num)\n",
    "        # binned = bin(num2bin)\n",
    "        # binneds = str(binned)\n",
    "        def printed():\n",
    "            dope2num = str(i)\n",
    "            num2bin = ord(dope2num)\n",
    "            binned = bin(num2bin)\n",
    "            listed = (binned)\n",
    "            print(listed)\n",
    "        printed()\n",
    "\n",
    "ing_2_bin()\n",
    "\n",
    "\n",
    "\n",
    "\n",
    "# Learn loops and make the program run endlessly until stopped, with loops"
   ]
  }
 ],
 "metadata": {
  "kernelspec": {
   "display_name": "Python 3.10.6 64-bit",
   "language": "python",
   "name": "python3"
  },
  "language_info": {
   "codemirror_mode": {
    "name": "ipython",
    "version": 3
   },
   "file_extension": ".py",
   "mimetype": "text/x-python",
   "name": "python",
   "nbconvert_exporter": "python",
   "pygments_lexer": "ipython3",
   "version": "3.10.6"
  },
  "orig_nbformat": 4,
  "vscode": {
   "interpreter": {
    "hash": "aee8b7b246df8f9039afb4144a1f6fd8d2ca17a180786b69acc140d282b71a49"
   }
  }
 },
 "nbformat": 4,
 "nbformat_minor": 2
}
