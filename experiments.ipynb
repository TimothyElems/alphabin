{
 "cells": [
  {
   "cell_type": "code",
   "execution_count": 11,
   "metadata": {},
   "outputs": [
    {
     "name": "stdout",
     "output_type": "stream",
     "text": [
      "Hello!\n",
      "Type a message and you'll see it in binary.\n",
      "Type \"quit\" to end the program.\n"
     ]
    },
    {
     "ename": "TypeError",
     "evalue": "'str' object is not callable",
     "output_type": "error",
     "traceback": [
      "\u001b[0;31m---------------------------------------------------------------------------\u001b[0m",
      "\u001b[0;31mTypeError\u001b[0m                                 Traceback (most recent call last)",
      "\u001b[1;32m/Users/elems/Documents/alphabin/experiments.ipynb Cell 1\u001b[0m in \u001b[0;36m<cell line: 18>\u001b[0;34m()\u001b[0m\n\u001b[1;32m     <a href='vscode-notebook-cell:/Users/elems/Documents/alphabin/experiments.ipynb#W0sZmlsZQ%3D%3D?line=10'>11</a>\u001b[0m     \u001b[39mprint\u001b[39m(binned)\n\u001b[1;32m     <a href='vscode-notebook-cell:/Users/elems/Documents/alphabin/experiments.ipynb#W0sZmlsZQ%3D%3D?line=11'>12</a>\u001b[0m     \u001b[39m# for i in dope:\u001b[39;00m\n\u001b[1;32m     <a href='vscode-notebook-cell:/Users/elems/Documents/alphabin/experiments.ipynb#W0sZmlsZQ%3D%3D?line=12'>13</a>\u001b[0m     \u001b[39m#     dope2num = str(i)\u001b[39;00m\n\u001b[1;32m     <a href='vscode-notebook-cell:/Users/elems/Documents/alphabin/experiments.ipynb#W0sZmlsZQ%3D%3D?line=13'>14</a>\u001b[0m     \u001b[39m#     num2bin = ord(dope2num)\u001b[39;00m\n\u001b[1;32m     <a href='vscode-notebook-cell:/Users/elems/Documents/alphabin/experiments.ipynb#W0sZmlsZQ%3D%3D?line=14'>15</a>\u001b[0m     \u001b[39m#     binned = bin(num2bin)\u001b[39;00m\n\u001b[1;32m     <a href='vscode-notebook-cell:/Users/elems/Documents/alphabin/experiments.ipynb#W0sZmlsZQ%3D%3D?line=15'>16</a>\u001b[0m     \u001b[39m#     print(str(binned))\u001b[39;00m\n\u001b[0;32m---> <a href='vscode-notebook-cell:/Users/elems/Documents/alphabin/experiments.ipynb#W0sZmlsZQ%3D%3D?line=17'>18</a>\u001b[0m ing_2_bin()\n",
      "\u001b[1;32m/Users/elems/Documents/alphabin/experiments.ipynb Cell 1\u001b[0m in \u001b[0;36ming_2_bin\u001b[0;34m()\u001b[0m\n\u001b[1;32m      <a href='vscode-notebook-cell:/Users/elems/Documents/alphabin/experiments.ipynb#W0sZmlsZQ%3D%3D?line=4'>5</a>\u001b[0m dope \u001b[39m=\u001b[39m \u001b[39minput\u001b[39m(\u001b[39m\"\u001b[39m\u001b[39mType it here: \u001b[39m\u001b[39m\"\u001b[39m)\n\u001b[1;32m      <a href='vscode-notebook-cell:/Users/elems/Documents/alphabin/experiments.ipynb#W0sZmlsZQ%3D%3D?line=5'>6</a>\u001b[0m \u001b[39m# if dope != 'quit' or 'Quit':\u001b[39;00m\n\u001b[0;32m----> <a href='vscode-notebook-cell:/Users/elems/Documents/alphabin/experiments.ipynb#W0sZmlsZQ%3D%3D?line=7'>8</a>\u001b[0m dope2num \u001b[39m=\u001b[39m string\u001b[39m.\u001b[39;49mascii_letters(dope)\n\u001b[1;32m      <a href='vscode-notebook-cell:/Users/elems/Documents/alphabin/experiments.ipynb#W0sZmlsZQ%3D%3D?line=8'>9</a>\u001b[0m \u001b[39m# num2bin = ord(dope2num)\u001b[39;00m\n\u001b[1;32m     <a href='vscode-notebook-cell:/Users/elems/Documents/alphabin/experiments.ipynb#W0sZmlsZQ%3D%3D?line=9'>10</a>\u001b[0m binned \u001b[39m=\u001b[39m \u001b[39mbin\u001b[39m(dope2num)\n",
      "\u001b[0;31mTypeError\u001b[0m: 'str' object is not callable"
     ]
    }
   ],
   "source": [
    "import string\n",
    "\n",
    "def ing_2_bin():\n",
    "    print('Hello!\\nType a message and you\\'ll see it in binary.\\nType \"quit\" to end the program.')\n",
    "    dope = input(\"Type it here: \")\n",
    "    # if dope != 'quit' or 'Quit':\n",
    "    \n",
    "    dope2num = str(dope)\n",
    "    # num2bin = ord(dope2num)\n",
    "    binned = bin(dope2num)\n",
    "    print(binned)\n",
    "    # for i in dope:\n",
    "    #     dope2num = str(i)\n",
    "    #     num2bin = ord(dope2num)\n",
    "    #     binned = bin(num2bin)\n",
    "    #     print(str(binned))\n",
    "\n",
    "ing_2_bin()"
   ]
  }
 ],
 "metadata": {
  "kernelspec": {
   "display_name": "Python 3.10.6 64-bit",
   "language": "python",
   "name": "python3"
  },
  "language_info": {
   "codemirror_mode": {
    "name": "ipython",
    "version": 3
   },
   "file_extension": ".py",
   "mimetype": "text/x-python",
   "name": "python",
   "nbconvert_exporter": "python",
   "pygments_lexer": "ipython3",
   "version": "3.10.6"
  },
  "orig_nbformat": 4,
  "vscode": {
   "interpreter": {
    "hash": "aee8b7b246df8f9039afb4144a1f6fd8d2ca17a180786b69acc140d282b71a49"
   }
  }
 },
 "nbformat": 4,
 "nbformat_minor": 2
}
